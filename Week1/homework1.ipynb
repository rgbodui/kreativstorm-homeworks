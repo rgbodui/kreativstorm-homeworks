{
 "cells": [
  {
   "cell_type": "code",
   "execution_count": 1,
   "id": "initial_id",
   "metadata": {
    "collapsed": true,
    "ExecuteTime": {
     "end_time": "2023-09-06T20:48:15.652747600Z",
     "start_time": "2023-09-06T20:48:12.963285800Z"
    }
   },
   "outputs": [],
   "source": [
    "import pandas as pd\n",
    "import numpy as np"
   ]
  },
  {
   "cell_type": "code",
   "execution_count": 2,
   "outputs": [
    {
     "data": {
      "text/plain": "      ID  Length  Birthweight  Headcirc  Gestation  smoker  mage  mnocig  \\\n7   1191      53         3.65        33         42       0    21       0   \n31    57      51         3.32        38         39       1    23      17   \n39  1262      53         3.19        34         41       1    27      35   \n27  1764      58         4.57        39         41       1    32      12   \n3   1187      53         4.07        38         44       0    20       0   \n\n    mheight  mppwt  fage  fedyrs  fnocig  fheight  lowbwt  mage35  \n7       165     61    21      10      25      185       0       0  \n31      157     48    32      12      25      169       0       0  \n39      163     51    31      16      25      185       0       0  \n27      173     70    38      14      25      180       0       0  \n3       174     68    26      14      25      189       0       0  ",
      "text/html": "<div>\n<style scoped>\n    .dataframe tbody tr th:only-of-type {\n        vertical-align: middle;\n    }\n\n    .dataframe tbody tr th {\n        vertical-align: top;\n    }\n\n    .dataframe thead th {\n        text-align: right;\n    }\n</style>\n<table border=\"1\" class=\"dataframe\">\n  <thead>\n    <tr style=\"text-align: right;\">\n      <th></th>\n      <th>ID</th>\n      <th>Length</th>\n      <th>Birthweight</th>\n      <th>Headcirc</th>\n      <th>Gestation</th>\n      <th>smoker</th>\n      <th>mage</th>\n      <th>mnocig</th>\n      <th>mheight</th>\n      <th>mppwt</th>\n      <th>fage</th>\n      <th>fedyrs</th>\n      <th>fnocig</th>\n      <th>fheight</th>\n      <th>lowbwt</th>\n      <th>mage35</th>\n    </tr>\n  </thead>\n  <tbody>\n    <tr>\n      <th>7</th>\n      <td>1191</td>\n      <td>53</td>\n      <td>3.65</td>\n      <td>33</td>\n      <td>42</td>\n      <td>0</td>\n      <td>21</td>\n      <td>0</td>\n      <td>165</td>\n      <td>61</td>\n      <td>21</td>\n      <td>10</td>\n      <td>25</td>\n      <td>185</td>\n      <td>0</td>\n      <td>0</td>\n    </tr>\n    <tr>\n      <th>31</th>\n      <td>57</td>\n      <td>51</td>\n      <td>3.32</td>\n      <td>38</td>\n      <td>39</td>\n      <td>1</td>\n      <td>23</td>\n      <td>17</td>\n      <td>157</td>\n      <td>48</td>\n      <td>32</td>\n      <td>12</td>\n      <td>25</td>\n      <td>169</td>\n      <td>0</td>\n      <td>0</td>\n    </tr>\n    <tr>\n      <th>39</th>\n      <td>1262</td>\n      <td>53</td>\n      <td>3.19</td>\n      <td>34</td>\n      <td>41</td>\n      <td>1</td>\n      <td>27</td>\n      <td>35</td>\n      <td>163</td>\n      <td>51</td>\n      <td>31</td>\n      <td>16</td>\n      <td>25</td>\n      <td>185</td>\n      <td>0</td>\n      <td>0</td>\n    </tr>\n    <tr>\n      <th>27</th>\n      <td>1764</td>\n      <td>58</td>\n      <td>4.57</td>\n      <td>39</td>\n      <td>41</td>\n      <td>1</td>\n      <td>32</td>\n      <td>12</td>\n      <td>173</td>\n      <td>70</td>\n      <td>38</td>\n      <td>14</td>\n      <td>25</td>\n      <td>180</td>\n      <td>0</td>\n      <td>0</td>\n    </tr>\n    <tr>\n      <th>3</th>\n      <td>1187</td>\n      <td>53</td>\n      <td>4.07</td>\n      <td>38</td>\n      <td>44</td>\n      <td>0</td>\n      <td>20</td>\n      <td>0</td>\n      <td>174</td>\n      <td>68</td>\n      <td>26</td>\n      <td>14</td>\n      <td>25</td>\n      <td>189</td>\n      <td>0</td>\n      <td>0</td>\n    </tr>\n  </tbody>\n</table>\n</div>"
     },
     "execution_count": 2,
     "metadata": {},
     "output_type": "execute_result"
    }
   ],
   "source": [
    "df = pd.read_csv('Birthweight_reduced_kg_R.csv')\n",
    "df.sample(5)"
   ],
   "metadata": {
    "collapsed": false,
    "ExecuteTime": {
     "end_time": "2023-09-06T20:49:30.371520700Z",
     "start_time": "2023-09-06T20:49:30.300162500Z"
    }
   },
   "id": "fe6a530a6644c3be"
  },
  {
   "cell_type": "markdown",
   "source": [
    "**Q1. What is the mean birth weight for babies of non-smoking mothers?**"
   ],
   "metadata": {
    "collapsed": false
   },
   "id": "1458d2b38e8211a6"
  },
  {
   "cell_type": "code",
   "execution_count": 8,
   "outputs": [
    {
     "data": {
      "text/plain": "3.5095000000000005"
     },
     "execution_count": 8,
     "metadata": {},
     "output_type": "execute_result"
    }
   ],
   "source": [
    "mean_birth_weigth_non_smoking = df['Birthweight'][df['smoker']==0].mean()\n",
    "mean_birth_weigth_non_smoking"
   ],
   "metadata": {
    "collapsed": false,
    "ExecuteTime": {
     "end_time": "2023-09-06T20:57:59.619114800Z",
     "start_time": "2023-09-06T20:57:59.593715100Z"
    }
   },
   "id": "6599966782ba49d8"
  },
  {
   "cell_type": "markdown",
   "source": [
    "**Q2. What is the mean birth weight for babies of smoking mothers?**"
   ],
   "metadata": {
    "collapsed": false
   },
   "id": "87601805e3716402"
  },
  {
   "cell_type": "code",
   "execution_count": 9,
   "outputs": [
    {
     "data": {
      "text/plain": "3.1340909090909093"
     },
     "execution_count": 9,
     "metadata": {},
     "output_type": "execute_result"
    }
   ],
   "source": [
    "mean_birth_weigth_smoking = df['Birthweight'][df['smoker']==1].mean()\n",
    "mean_birth_weigth_smoking"
   ],
   "metadata": {
    "collapsed": false,
    "ExecuteTime": {
     "end_time": "2023-09-06T20:58:07.067106800Z",
     "start_time": "2023-09-06T20:58:07.033608800Z"
    }
   },
   "id": "8cbd3b51a91b023c"
  },
  {
   "cell_type": "markdown",
   "source": [
    "**Q3. What is the mean head circumference for babies of non-smoking mothers?**"
   ],
   "metadata": {
    "collapsed": false
   },
   "id": "33af7a7b592b2153"
  },
  {
   "cell_type": "code",
   "execution_count": 10,
   "outputs": [
    {
     "data": {
      "text/plain": "35.05"
     },
     "execution_count": 10,
     "metadata": {},
     "output_type": "execute_result"
    }
   ],
   "source": [
    "mean_head_circ_non_smoking = df['Headcirc'][df['smoker']==0].mean()\n",
    "mean_head_circ_non_smoking"
   ],
   "metadata": {
    "collapsed": false,
    "ExecuteTime": {
     "end_time": "2023-09-06T20:58:15.064925100Z",
     "start_time": "2023-09-06T20:58:15.028238500Z"
    }
   },
   "id": "32512b949b15d27a"
  },
  {
   "cell_type": "markdown",
   "source": [
    "**Q4. What is the mean gestational age at birth for babies of smoking mothers?**"
   ],
   "metadata": {
    "collapsed": false
   },
   "id": "25af74dfcfcb4885"
  },
  {
   "cell_type": "code",
   "execution_count": 11,
   "outputs": [
    {
     "data": {
      "text/plain": "38.95454545454545"
     },
     "execution_count": 11,
     "metadata": {},
     "output_type": "execute_result"
    }
   ],
   "source": [
    "mean_gestation_smoking = df['Gestation'][df['smoker']==1].mean()\n",
    "mean_gestation_smoking"
   ],
   "metadata": {
    "collapsed": false,
    "ExecuteTime": {
     "end_time": "2023-09-06T20:58:57.940379Z",
     "start_time": "2023-09-06T20:58:57.916290600Z"
    }
   },
   "id": "195fccb530593e94"
  },
  {
   "cell_type": "markdown",
   "source": [
    "**Q5. What is the maximum head circumference for babies of non-smoking mothers?**"
   ],
   "metadata": {
    "collapsed": false
   },
   "id": "ba5d1477dcdd1854"
  },
  {
   "cell_type": "code",
   "execution_count": 12,
   "outputs": [
    {
     "data": {
      "text/plain": "39"
     },
     "execution_count": 12,
     "metadata": {},
     "output_type": "execute_result"
    }
   ],
   "source": [
    "max_head_circ_non_smoking = df['Headcirc'][df['smoker']==0].max()\n",
    "max_head_circ_non_smoking"
   ],
   "metadata": {
    "collapsed": false,
    "ExecuteTime": {
     "end_time": "2023-09-06T20:59:31.424454300Z",
     "start_time": "2023-09-06T20:59:31.397907100Z"
    }
   },
   "id": "d8ea4f0ad14d69ff"
  },
  {
   "cell_type": "markdown",
   "source": [
    "**Q6. What is the minimum gestational age at birth for babies of smoking mothers?**"
   ],
   "metadata": {
    "collapsed": false
   },
   "id": "6292e0df86b81546"
  },
  {
   "cell_type": "code",
   "execution_count": 13,
   "outputs": [
    {
     "data": {
      "text/plain": "33"
     },
     "execution_count": 13,
     "metadata": {},
     "output_type": "execute_result"
    }
   ],
   "source": [
    "min_gestation_smoking = df['Gestation'][df['smoker']==1].min()\n",
    "min_gestation_smoking"
   ],
   "metadata": {
    "collapsed": false,
    "ExecuteTime": {
     "end_time": "2023-09-06T21:01:50.623123600Z",
     "start_time": "2023-09-06T21:01:50.595142600Z"
    }
   },
   "id": "6131c5ad46125cc9"
  },
  {
   "cell_type": "markdown",
   "source": [
    "**Q7. Based on the dataset you have, out of the two, which one would be a better bet:**\n",
    "●\tPregnancy period in smoking mothers is shorter\n",
    "●\tPregnancy period in non-smoking mothers is shorter"
   ],
   "metadata": {
    "collapsed": false
   },
   "id": "9f765a5f80bd667f"
  },
  {
   "cell_type": "code",
   "execution_count": 14,
   "outputs": [
    {
     "data": {
      "text/plain": "33"
     },
     "execution_count": 14,
     "metadata": {},
     "output_type": "execute_result"
    }
   ],
   "source": [
    "min_gestation_non_smoking = df['Gestation'][df['smoker']==0].min()\n",
    "min_gestation_non_smoking"
   ],
   "metadata": {
    "collapsed": false,
    "ExecuteTime": {
     "end_time": "2023-09-06T21:25:55.248462400Z",
     "start_time": "2023-09-06T21:25:55.211313700Z"
    }
   },
   "id": "386358b3a8a4fc51"
  },
  {
   "cell_type": "code",
   "execution_count": 15,
   "outputs": [
    {
     "data": {
      "text/plain": "39.45"
     },
     "execution_count": 15,
     "metadata": {},
     "output_type": "execute_result"
    }
   ],
   "source": [
    "mean_gestation_non_smoking = df['Gestation'][df['smoker']==0].mean()\n",
    "mean_gestation_non_smoking"
   ],
   "metadata": {
    "collapsed": false,
    "ExecuteTime": {
     "end_time": "2023-09-06T21:28:42.113049600Z",
     "start_time": "2023-09-06T21:28:42.073081Z"
    }
   },
   "id": "7f22aa128fd785b"
  },
  {
   "cell_type": "code",
   "execution_count": 16,
   "outputs": [
    {
     "data": {
      "text/plain": "40.0"
     },
     "execution_count": 16,
     "metadata": {},
     "output_type": "execute_result"
    }
   ],
   "source": [
    "median_gestation_non_smoking = df['Gestation'][df['smoker']==0].median()\n",
    "median_gestation_non_smoking"
   ],
   "metadata": {
    "collapsed": false,
    "ExecuteTime": {
     "end_time": "2023-09-06T21:30:14.462540500Z",
     "start_time": "2023-09-06T21:30:14.403706400Z"
    }
   },
   "id": "1e87b590a8e02d3f"
  },
  {
   "cell_type": "code",
   "execution_count": 17,
   "outputs": [
    {
     "data": {
      "text/plain": "39.0"
     },
     "execution_count": 17,
     "metadata": {},
     "output_type": "execute_result"
    }
   ],
   "source": [
    "median_gestation_smoking = df['Gestation'][df['smoker']==1].median()\n",
    "median_gestation_smoking"
   ],
   "metadata": {
    "collapsed": false,
    "ExecuteTime": {
     "end_time": "2023-09-06T21:30:41.273412100Z",
     "start_time": "2023-09-06T21:30:41.197277700Z"
    }
   },
   "id": "b34dfb483f635d5d"
  },
  {
   "cell_type": "markdown",
   "source": [
    "**Q9. What is the baby birth weight range for babies of smoking mothers?**"
   ],
   "metadata": {
    "collapsed": false
   },
   "id": "a3e1ca31684255a2"
  },
  {
   "cell_type": "code",
   "execution_count": 18,
   "outputs": [
    {
     "data": {
      "text/plain": "(1.92, 4.57)"
     },
     "execution_count": 18,
     "metadata": {},
     "output_type": "execute_result"
    }
   ],
   "source": [
    "min_birth_weigth_smoking = df['Birthweight'][df['smoker']==1].min()\n",
    "max_birth_weigth_smoking = df['Birthweight'][df['smoker']==1].max()\n",
    "birth_weight_range_smoking = (min_birth_weigth_smoking, max_birth_weigth_smoking)\n",
    "birth_weight_range_smoking"
   ],
   "metadata": {
    "collapsed": false,
    "ExecuteTime": {
     "end_time": "2023-09-06T21:40:01.055717100Z",
     "start_time": "2023-09-06T21:40:01.012636700Z"
    }
   },
   "id": "b04f4a31de4b4bea"
  },
  {
   "cell_type": "code",
   "execution_count": 19,
   "outputs": [
    {
     "data": {
      "text/plain": "(2.65, 4.55)"
     },
     "execution_count": 19,
     "metadata": {},
     "output_type": "execute_result"
    }
   ],
   "source": [
    "min_birth_weigth_non_smoking = df['Birthweight'][df['smoker']==0].min()\n",
    "max_birth_weigth_non_smoking = df['Birthweight'][df['smoker']==0].max()\n",
    "birth_weight_range_non_smoking = (min_birth_weigth_non_smoking, max_birth_weigth_non_smoking)\n",
    "birth_weight_range_non_smoking"
   ],
   "metadata": {
    "collapsed": false,
    "ExecuteTime": {
     "end_time": "2023-09-06T21:41:59.427905200Z",
     "start_time": "2023-09-06T21:41:59.339909600Z"
    }
   },
   "id": "7c5a29fa8e97c46f"
  },
  {
   "cell_type": "code",
   "execution_count": null,
   "outputs": [],
   "source": [],
   "metadata": {
    "collapsed": false
   },
   "id": "30fb8e6e31a056e8"
  }
 ],
 "metadata": {
  "kernelspec": {
   "display_name": "Python 3",
   "language": "python",
   "name": "python3"
  },
  "language_info": {
   "codemirror_mode": {
    "name": "ipython",
    "version": 2
   },
   "file_extension": ".py",
   "mimetype": "text/x-python",
   "name": "python",
   "nbconvert_exporter": "python",
   "pygments_lexer": "ipython2",
   "version": "2.7.6"
  }
 },
 "nbformat": 4,
 "nbformat_minor": 5
}
