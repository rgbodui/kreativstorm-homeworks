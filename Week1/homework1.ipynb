{
 "cells": [
  {
   "cell_type": "code",
   "execution_count": 27,
   "id": "initial_id",
   "metadata": {
    "collapsed": true,
    "ExecuteTime": {
     "end_time": "2023-09-07T01:22:42.820783400Z",
     "start_time": "2023-09-07T01:22:42.699846600Z"
    }
   },
   "outputs": [],
   "source": [
    "import pandas as pd\n",
    "import numpy as np\n",
    "from scipy import stats"
   ]
  },
  {
   "cell_type": "code",
   "execution_count": 28,
   "outputs": [
    {
     "data": {
      "text/plain": "     ID  Length  Birthweight  Headcirc  Gestation  smoker  mage  mnocig  \\\n16  697      48         3.03        35         39       0    27       0   \n29  752      49         3.32        36         40       1    27      12   \n31   57      51         3.32        38         39       1    23      17   \n2   462      58         4.10        39         41       0    35       0   \n22  575      50         2.78        30         37       1    19       7   \n\n    mheight  mppwt  fage  fedyrs  fnocig  fheight  lowbwt  mage35  \n16      162     62    27      14       0      178       0       0  \n29      152     48    37      12      25      170       0       0  \n31      157     48    32      12      25      169       0       0  \n2       172     58    31      16      25      185       0       1  \n22      165     60    20      14       0      183       0       0  ",
      "text/html": "<div>\n<style scoped>\n    .dataframe tbody tr th:only-of-type {\n        vertical-align: middle;\n    }\n\n    .dataframe tbody tr th {\n        vertical-align: top;\n    }\n\n    .dataframe thead th {\n        text-align: right;\n    }\n</style>\n<table border=\"1\" class=\"dataframe\">\n  <thead>\n    <tr style=\"text-align: right;\">\n      <th></th>\n      <th>ID</th>\n      <th>Length</th>\n      <th>Birthweight</th>\n      <th>Headcirc</th>\n      <th>Gestation</th>\n      <th>smoker</th>\n      <th>mage</th>\n      <th>mnocig</th>\n      <th>mheight</th>\n      <th>mppwt</th>\n      <th>fage</th>\n      <th>fedyrs</th>\n      <th>fnocig</th>\n      <th>fheight</th>\n      <th>lowbwt</th>\n      <th>mage35</th>\n    </tr>\n  </thead>\n  <tbody>\n    <tr>\n      <th>16</th>\n      <td>697</td>\n      <td>48</td>\n      <td>3.03</td>\n      <td>35</td>\n      <td>39</td>\n      <td>0</td>\n      <td>27</td>\n      <td>0</td>\n      <td>162</td>\n      <td>62</td>\n      <td>27</td>\n      <td>14</td>\n      <td>0</td>\n      <td>178</td>\n      <td>0</td>\n      <td>0</td>\n    </tr>\n    <tr>\n      <th>29</th>\n      <td>752</td>\n      <td>49</td>\n      <td>3.32</td>\n      <td>36</td>\n      <td>40</td>\n      <td>1</td>\n      <td>27</td>\n      <td>12</td>\n      <td>152</td>\n      <td>48</td>\n      <td>37</td>\n      <td>12</td>\n      <td>25</td>\n      <td>170</td>\n      <td>0</td>\n      <td>0</td>\n    </tr>\n    <tr>\n      <th>31</th>\n      <td>57</td>\n      <td>51</td>\n      <td>3.32</td>\n      <td>38</td>\n      <td>39</td>\n      <td>1</td>\n      <td>23</td>\n      <td>17</td>\n      <td>157</td>\n      <td>48</td>\n      <td>32</td>\n      <td>12</td>\n      <td>25</td>\n      <td>169</td>\n      <td>0</td>\n      <td>0</td>\n    </tr>\n    <tr>\n      <th>2</th>\n      <td>462</td>\n      <td>58</td>\n      <td>4.10</td>\n      <td>39</td>\n      <td>41</td>\n      <td>0</td>\n      <td>35</td>\n      <td>0</td>\n      <td>172</td>\n      <td>58</td>\n      <td>31</td>\n      <td>16</td>\n      <td>25</td>\n      <td>185</td>\n      <td>0</td>\n      <td>1</td>\n    </tr>\n    <tr>\n      <th>22</th>\n      <td>575</td>\n      <td>50</td>\n      <td>2.78</td>\n      <td>30</td>\n      <td>37</td>\n      <td>1</td>\n      <td>19</td>\n      <td>7</td>\n      <td>165</td>\n      <td>60</td>\n      <td>20</td>\n      <td>14</td>\n      <td>0</td>\n      <td>183</td>\n      <td>0</td>\n      <td>0</td>\n    </tr>\n  </tbody>\n</table>\n</div>"
     },
     "execution_count": 28,
     "metadata": {},
     "output_type": "execute_result"
    }
   ],
   "source": [
    "df = pd.read_csv('Birthweight_reduced_kg_R.csv')\n",
    "df.sample(5)"
   ],
   "metadata": {
    "collapsed": false,
    "ExecuteTime": {
     "end_time": "2023-09-07T01:22:43.300673700Z",
     "start_time": "2023-09-07T01:22:42.719562800Z"
    }
   },
   "id": "fe6a530a6644c3be"
  },
  {
   "cell_type": "markdown",
   "source": [
    "**Q1. What is the mean birth weight for babies of non-smoking mothers?**"
   ],
   "metadata": {
    "collapsed": false
   },
   "id": "1458d2b38e8211a6"
  },
  {
   "cell_type": "code",
   "execution_count": 29,
   "outputs": [
    {
     "data": {
      "text/plain": "3.5095000000000005"
     },
     "execution_count": 29,
     "metadata": {},
     "output_type": "execute_result"
    }
   ],
   "source": [
    "mean_birth_weight_non_smoking = df['Birthweight'][df['smoker']==0].mean()\n",
    "mean_birth_weight_non_smoking"
   ],
   "metadata": {
    "collapsed": false,
    "ExecuteTime": {
     "end_time": "2023-09-07T01:22:43.302654100Z",
     "start_time": "2023-09-07T01:22:42.880123Z"
    }
   },
   "id": "6599966782ba49d8"
  },
  {
   "cell_type": "markdown",
   "source": [
    "**Q2. What is the mean birth weight for babies of smoking mothers?**"
   ],
   "metadata": {
    "collapsed": false
   },
   "id": "87601805e3716402"
  },
  {
   "cell_type": "code",
   "execution_count": 30,
   "outputs": [
    {
     "data": {
      "text/plain": "3.1340909090909093"
     },
     "execution_count": 30,
     "metadata": {},
     "output_type": "execute_result"
    }
   ],
   "source": [
    "mean_birth_weight_smoking = df['Birthweight'][df['smoker']==1].mean()\n",
    "mean_birth_weight_smoking"
   ],
   "metadata": {
    "collapsed": false,
    "ExecuteTime": {
     "end_time": "2023-09-07T01:22:43.303663200Z",
     "start_time": "2023-09-07T01:22:42.908894900Z"
    }
   },
   "id": "8cbd3b51a91b023c"
  },
  {
   "cell_type": "markdown",
   "source": [
    "**Q3. What is the mean head circumference for babies of non-smoking mothers?**"
   ],
   "metadata": {
    "collapsed": false
   },
   "id": "33af7a7b592b2153"
  },
  {
   "cell_type": "code",
   "execution_count": 31,
   "outputs": [
    {
     "data": {
      "text/plain": "35.05"
     },
     "execution_count": 31,
     "metadata": {},
     "output_type": "execute_result"
    }
   ],
   "source": [
    "mean_head_circ_non_smoking = df['Headcirc'][df['smoker']==0].mean()\n",
    "mean_head_circ_non_smoking"
   ],
   "metadata": {
    "collapsed": false,
    "ExecuteTime": {
     "end_time": "2023-09-07T01:22:43.304668800Z",
     "start_time": "2023-09-07T01:22:42.936326900Z"
    }
   },
   "id": "32512b949b15d27a"
  },
  {
   "cell_type": "markdown",
   "source": [
    "**Q4. What is the mean gestational age at birth for babies of smoking mothers?**"
   ],
   "metadata": {
    "collapsed": false
   },
   "id": "25af74dfcfcb4885"
  },
  {
   "cell_type": "code",
   "execution_count": 32,
   "outputs": [
    {
     "data": {
      "text/plain": "38.95454545454545"
     },
     "execution_count": 32,
     "metadata": {},
     "output_type": "execute_result"
    }
   ],
   "source": [
    "mean_gestation_smoking = df['Gestation'][df['smoker']==1].mean()\n",
    "mean_gestation_smoking"
   ],
   "metadata": {
    "collapsed": false,
    "ExecuteTime": {
     "end_time": "2023-09-07T01:22:43.305663600Z",
     "start_time": "2023-09-07T01:22:42.950660500Z"
    }
   },
   "id": "195fccb530593e94"
  },
  {
   "cell_type": "markdown",
   "source": [
    "**Q5. What is the maximum head circumference for babies of non-smoking mothers?**"
   ],
   "metadata": {
    "collapsed": false
   },
   "id": "ba5d1477dcdd1854"
  },
  {
   "cell_type": "code",
   "execution_count": 33,
   "outputs": [
    {
     "data": {
      "text/plain": "39"
     },
     "execution_count": 33,
     "metadata": {},
     "output_type": "execute_result"
    }
   ],
   "source": [
    "max_head_circ_non_smoking = df['Headcirc'][df['smoker']==0].max()\n",
    "max_head_circ_non_smoking"
   ],
   "metadata": {
    "collapsed": false,
    "ExecuteTime": {
     "end_time": "2023-09-07T01:22:43.305663600Z",
     "start_time": "2023-09-07T01:22:42.966171800Z"
    }
   },
   "id": "d8ea4f0ad14d69ff"
  },
  {
   "cell_type": "markdown",
   "source": [
    "**Q6. What is the minimum gestational age at birth for babies of smoking mothers?**"
   ],
   "metadata": {
    "collapsed": false
   },
   "id": "6292e0df86b81546"
  },
  {
   "cell_type": "code",
   "execution_count": 34,
   "outputs": [
    {
     "data": {
      "text/plain": "33"
     },
     "execution_count": 34,
     "metadata": {},
     "output_type": "execute_result"
    }
   ],
   "source": [
    "min_gestation_smoking = df['Gestation'][df['smoker']==1].min()\n",
    "min_gestation_smoking"
   ],
   "metadata": {
    "collapsed": false,
    "ExecuteTime": {
     "end_time": "2023-09-07T01:22:43.305663600Z",
     "start_time": "2023-09-07T01:22:42.982740100Z"
    }
   },
   "id": "6131c5ad46125cc9"
  },
  {
   "cell_type": "markdown",
   "source": [
    "**Q7. Based on the dataset you have, out of the two, which one would be a better bet:**\n",
    "●\tPregnancy period in smoking mothers is shorter\n",
    "●\tPregnancy period in non-smoking mothers is shorter"
   ],
   "metadata": {
    "collapsed": false
   },
   "id": "9f765a5f80bd667f"
  },
  {
   "cell_type": "code",
   "execution_count": 35,
   "outputs": [
    {
     "data": {
      "text/plain": "33"
     },
     "execution_count": 35,
     "metadata": {},
     "output_type": "execute_result"
    }
   ],
   "source": [
    "min_gestation_non_smoking = df['Gestation'][df['smoker']==0].min()\n",
    "min_gestation_non_smoking"
   ],
   "metadata": {
    "collapsed": false,
    "ExecuteTime": {
     "end_time": "2023-09-07T01:22:43.309666200Z",
     "start_time": "2023-09-07T01:22:42.999832300Z"
    }
   },
   "id": "386358b3a8a4fc51"
  },
  {
   "cell_type": "code",
   "execution_count": 36,
   "outputs": [
    {
     "data": {
      "text/plain": "39.45"
     },
     "execution_count": 36,
     "metadata": {},
     "output_type": "execute_result"
    }
   ],
   "source": [
    "mean_gestation_non_smoking = df['Gestation'][df['smoker']==0].mean()\n",
    "mean_gestation_non_smoking"
   ],
   "metadata": {
    "collapsed": false,
    "ExecuteTime": {
     "end_time": "2023-09-07T01:22:43.310669Z",
     "start_time": "2023-09-07T01:22:43.014247900Z"
    }
   },
   "id": "7f22aa128fd785b"
  },
  {
   "cell_type": "code",
   "execution_count": 37,
   "outputs": [
    {
     "data": {
      "text/plain": "40.0"
     },
     "execution_count": 37,
     "metadata": {},
     "output_type": "execute_result"
    }
   ],
   "source": [
    "median_gestation_non_smoking = df['Gestation'][df['smoker']==0].median()\n",
    "median_gestation_non_smoking"
   ],
   "metadata": {
    "collapsed": false,
    "ExecuteTime": {
     "end_time": "2023-09-07T01:22:43.312664600Z",
     "start_time": "2023-09-07T01:22:43.025886500Z"
    }
   },
   "id": "1e87b590a8e02d3f"
  },
  {
   "cell_type": "code",
   "execution_count": 38,
   "outputs": [
    {
     "data": {
      "text/plain": "39.0"
     },
     "execution_count": 38,
     "metadata": {},
     "output_type": "execute_result"
    }
   ],
   "source": [
    "median_gestation_smoking = df['Gestation'][df['smoker']==1].median()\n",
    "median_gestation_smoking"
   ],
   "metadata": {
    "collapsed": false,
    "ExecuteTime": {
     "end_time": "2023-09-07T01:22:43.313666100Z",
     "start_time": "2023-09-07T01:22:43.044554700Z"
    }
   },
   "id": "b34dfb483f635d5d"
  },
  {
   "cell_type": "markdown",
   "source": [
    "**Q9. What is the baby birth weight range for babies of smoking mothers?**"
   ],
   "metadata": {
    "collapsed": false
   },
   "id": "a3e1ca31684255a2"
  },
  {
   "cell_type": "code",
   "execution_count": 39,
   "outputs": [
    {
     "data": {
      "text/plain": "(1.92, 4.57)"
     },
     "execution_count": 39,
     "metadata": {},
     "output_type": "execute_result"
    }
   ],
   "source": [
    "min_birth_weight_smoking = df['Birthweight'][df['smoker']==1].min()\n",
    "max_birth_weight_smoking = df['Birthweight'][df['smoker']==1].max()\n",
    "birth_weight_range_smoking = (min_birth_weight_smoking, max_birth_weight_smoking)\n",
    "birth_weight_range_smoking"
   ],
   "metadata": {
    "collapsed": false,
    "ExecuteTime": {
     "end_time": "2023-09-07T01:22:43.313666100Z",
     "start_time": "2023-09-07T01:22:43.062431100Z"
    }
   },
   "id": "b04f4a31de4b4bea"
  },
  {
   "cell_type": "code",
   "execution_count": 40,
   "outputs": [
    {
     "data": {
      "text/plain": "(2.65, 4.55)"
     },
     "execution_count": 40,
     "metadata": {},
     "output_type": "execute_result"
    }
   ],
   "source": [
    "min_birth_weight_non_smoking = df['Birthweight'][df['smoker']==0].min()\n",
    "max_birth_weight_non_smoking = df['Birthweight'][df['smoker']==0].max()\n",
    "birth_weight_range_non_smoking = (min_birth_weight_non_smoking, max_birth_weight_non_smoking)\n",
    "birth_weight_range_non_smoking"
   ],
   "metadata": {
    "collapsed": false,
    "ExecuteTime": {
     "end_time": "2023-09-07T01:22:43.313666100Z",
     "start_time": "2023-09-07T01:22:43.090880100Z"
    }
   },
   "id": "7c5a29fa8e97c46f"
  },
  {
   "cell_type": "markdown",
   "source": [
    "**Q11. Are head circumference data for babies of smoking mothers normally distributed?**"
   ],
   "metadata": {
    "collapsed": false
   },
   "id": "2c0fa0880ca1616c"
  },
  {
   "cell_type": "code",
   "execution_count": 41,
   "outputs": [
    {
     "name": "stdout",
     "output_type": "stream",
     "text": [
      "True\n"
     ]
    }
   ],
   "source": [
    "df_test = df['Headcirc'][df['smoker']==1]\n",
    "stat, p_value = stats.shapiro(df_test)\n",
    "print(p_value > 0.05)"
   ],
   "metadata": {
    "collapsed": false,
    "ExecuteTime": {
     "end_time": "2023-09-07T01:22:43.315665800Z",
     "start_time": "2023-09-07T01:22:43.104318Z"
    }
   },
   "id": "30fb8e6e31a056e8"
  },
  {
   "cell_type": "code",
   "execution_count": 42,
   "outputs": [
    {
     "name": "stdout",
     "output_type": "stream",
     "text": [
      "0.3723871409893036\n"
     ]
    }
   ],
   "source": [
    "print(p_value)"
   ],
   "metadata": {
    "collapsed": false,
    "ExecuteTime": {
     "end_time": "2023-09-07T01:22:43.318664400Z",
     "start_time": "2023-09-07T01:22:43.124510200Z"
    }
   },
   "id": "ce47fd0a4272b112"
  },
  {
   "cell_type": "markdown",
   "source": [
    "**Q13. What is the standard score (Z-score) for head circumference of 35.05 (X=35.05) in non-smoking mothers?**"
   ],
   "metadata": {
    "collapsed": false
   },
   "id": "f620a2805a6324e6"
  },
  {
   "cell_type": "code",
   "execution_count": 43,
   "outputs": [
    {
     "data": {
      "text/plain": "0.0"
     },
     "execution_count": 43,
     "metadata": {},
     "output_type": "execute_result"
    }
   ],
   "source": [
    "# Z = (X - mean) / stdev\n",
    "df_test = df['Headcirc'][df['smoker']==0]\n",
    "stdev_head_circ_non_smoking = df['Headcirc'][df['smoker']==0].std()\n",
    "X = 35.05\n",
    "z_score = (X - mean_head_circ_non_smoking) / stdev_head_circ_non_smoking\n",
    "z_score"
   ],
   "metadata": {
    "collapsed": false,
    "ExecuteTime": {
     "end_time": "2023-09-07T01:22:43.320671100Z",
     "start_time": "2023-09-07T01:22:43.142817200Z"
    }
   },
   "id": "358e954e639763ab"
  },
  {
   "cell_type": "markdown",
   "source": [
    "**Q14. How are birth weight data of non-smoking mothers skewed?**"
   ],
   "metadata": {
    "collapsed": false
   },
   "id": "2ca440717d4cda03"
  },
  {
   "cell_type": "code",
   "execution_count": 44,
   "outputs": [
    {
     "name": "stdout",
     "output_type": "stream",
     "text": [
      "True\n"
     ]
    }
   ],
   "source": [
    "df_test = df['Birthweight'][df['smoker']==0]\n",
    "stat, p_value = stats.shapiro(df_test)\n",
    "print(p_value > 0.05)"
   ],
   "metadata": {
    "collapsed": false,
    "ExecuteTime": {
     "end_time": "2023-09-07T01:22:43.321669100Z",
     "start_time": "2023-09-07T01:22:43.172382500Z"
    }
   },
   "id": "25e605d6e3a2d688"
  },
  {
   "cell_type": "code",
   "execution_count": 45,
   "outputs": [
    {
     "name": "stdout",
     "output_type": "stream",
     "text": [
      "Mean : 3.5095000000000005, Median : 3.385, Mode : 2.65\n"
     ]
    }
   ],
   "source": [
    "median_birth_weight_non_smoking = df_test.median()\n",
    "mode_birth_weight_non_smoking = df_test.mode()[0]\n",
    "\n",
    "print(f\"Mean : {mean_birth_weight_non_smoking}, Median : {median_birth_weight_non_smoking}, Mode : {mode_birth_weight_non_smoking}\")"
   ],
   "metadata": {
    "collapsed": false,
    "ExecuteTime": {
     "end_time": "2023-09-07T01:22:43.321669100Z",
     "start_time": "2023-09-07T01:22:43.190634900Z"
    }
   },
   "id": "1fdd84fa60e9be36"
  },
  {
   "cell_type": "markdown",
   "source": [
    "The birth weight data of non-smoking mothers are positively skewed "
   ],
   "metadata": {
    "collapsed": false
   },
   "id": "fd7c877beb00c789"
  },
  {
   "cell_type": "markdown",
   "source": [
    "**Q15. Are birth weight data for babies of smoking mothers normally distributed?**"
   ],
   "metadata": {
    "collapsed": false
   },
   "id": "b140a21903cb8027"
  },
  {
   "cell_type": "code",
   "execution_count": 46,
   "outputs": [
    {
     "name": "stdout",
     "output_type": "stream",
     "text": [
      "True\n"
     ]
    }
   ],
   "source": [
    "df_test = df['Birthweight'][df['smoker']==1]\n",
    "stat, p_value = stats.shapiro(df_test)\n",
    "print(p_value > 0.05)"
   ],
   "metadata": {
    "collapsed": false,
    "ExecuteTime": {
     "end_time": "2023-09-07T01:27:56.486165600Z",
     "start_time": "2023-09-07T01:27:56.430442200Z"
    }
   },
   "id": "cdd95d4583b48a01"
  },
  {
   "cell_type": "code",
   "execution_count": 47,
   "outputs": [
    {
     "data": {
      "text/plain": "0.9494693279266357"
     },
     "execution_count": 47,
     "metadata": {},
     "output_type": "execute_result"
    }
   ],
   "source": [
    "p_value"
   ],
   "metadata": {
    "collapsed": false,
    "ExecuteTime": {
     "end_time": "2023-09-07T01:28:06.363841800Z",
     "start_time": "2023-09-07T01:28:06.253370400Z"
    }
   },
   "id": "999fff675fb1fcbe"
  },
  {
   "cell_type": "code",
   "execution_count": null,
   "outputs": [],
   "source": [],
   "metadata": {
    "collapsed": false
   },
   "id": "20675656823bab4d"
  }
 ],
 "metadata": {
  "kernelspec": {
   "display_name": "Python 3",
   "language": "python",
   "name": "python3"
  },
  "language_info": {
   "codemirror_mode": {
    "name": "ipython",
    "version": 2
   },
   "file_extension": ".py",
   "mimetype": "text/x-python",
   "name": "python",
   "nbconvert_exporter": "python",
   "pygments_lexer": "ipython2",
   "version": "2.7.6"
  }
 },
 "nbformat": 4,
 "nbformat_minor": 5
}
