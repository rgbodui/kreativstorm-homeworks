{
 "cells": [
  {
   "cell_type": "code",
   "execution_count": 32,
   "id": "initial_id",
   "metadata": {
    "collapsed": true,
    "ExecuteTime": {
     "end_time": "2023-09-15T17:09:34.046450600Z",
     "start_time": "2023-09-15T17:09:33.792653800Z"
    }
   },
   "outputs": [],
   "source": [
    "import pandas as pd\n",
    "import numpy as np\n",
    "from scipy import stats"
   ]
  },
  {
   "cell_type": "code",
   "execution_count": 33,
   "outputs": [
    {
     "data": {
      "text/plain": "      ID  Length  Birthweight  Headcirc  Gestation  smoker  mage  mnocig  \\\n4    553      54         3.94        37         42       0    24       0   \n36   365      52         3.53        37         40       1    26      25   \n14  1058      53         3.15        34         40       0    29       0   \n34   272      52         3.86        36         39       1    30      25   \n0   1360      56         4.55        34         44       0    20       0   \n\n    mheight  mppwt  fage  fedyrs  fnocig  fheight  lowbwt  mage35  \n4       175     66    30      12       0      184       0       0  \n36      170     62    30      10      25      181       0       0  \n14      167     60    30      16      25      182       0       0  \n34      170     78    40      16      50      178       0       0  \n0       162     57    23      10      35      179       0       0  ",
      "text/html": "<div>\n<style scoped>\n    .dataframe tbody tr th:only-of-type {\n        vertical-align: middle;\n    }\n\n    .dataframe tbody tr th {\n        vertical-align: top;\n    }\n\n    .dataframe thead th {\n        text-align: right;\n    }\n</style>\n<table border=\"1\" class=\"dataframe\">\n  <thead>\n    <tr style=\"text-align: right;\">\n      <th></th>\n      <th>ID</th>\n      <th>Length</th>\n      <th>Birthweight</th>\n      <th>Headcirc</th>\n      <th>Gestation</th>\n      <th>smoker</th>\n      <th>mage</th>\n      <th>mnocig</th>\n      <th>mheight</th>\n      <th>mppwt</th>\n      <th>fage</th>\n      <th>fedyrs</th>\n      <th>fnocig</th>\n      <th>fheight</th>\n      <th>lowbwt</th>\n      <th>mage35</th>\n    </tr>\n  </thead>\n  <tbody>\n    <tr>\n      <th>4</th>\n      <td>553</td>\n      <td>54</td>\n      <td>3.94</td>\n      <td>37</td>\n      <td>42</td>\n      <td>0</td>\n      <td>24</td>\n      <td>0</td>\n      <td>175</td>\n      <td>66</td>\n      <td>30</td>\n      <td>12</td>\n      <td>0</td>\n      <td>184</td>\n      <td>0</td>\n      <td>0</td>\n    </tr>\n    <tr>\n      <th>36</th>\n      <td>365</td>\n      <td>52</td>\n      <td>3.53</td>\n      <td>37</td>\n      <td>40</td>\n      <td>1</td>\n      <td>26</td>\n      <td>25</td>\n      <td>170</td>\n      <td>62</td>\n      <td>30</td>\n      <td>10</td>\n      <td>25</td>\n      <td>181</td>\n      <td>0</td>\n      <td>0</td>\n    </tr>\n    <tr>\n      <th>14</th>\n      <td>1058</td>\n      <td>53</td>\n      <td>3.15</td>\n      <td>34</td>\n      <td>40</td>\n      <td>0</td>\n      <td>29</td>\n      <td>0</td>\n      <td>167</td>\n      <td>60</td>\n      <td>30</td>\n      <td>16</td>\n      <td>25</td>\n      <td>182</td>\n      <td>0</td>\n      <td>0</td>\n    </tr>\n    <tr>\n      <th>34</th>\n      <td>272</td>\n      <td>52</td>\n      <td>3.86</td>\n      <td>36</td>\n      <td>39</td>\n      <td>1</td>\n      <td>30</td>\n      <td>25</td>\n      <td>170</td>\n      <td>78</td>\n      <td>40</td>\n      <td>16</td>\n      <td>50</td>\n      <td>178</td>\n      <td>0</td>\n      <td>0</td>\n    </tr>\n    <tr>\n      <th>0</th>\n      <td>1360</td>\n      <td>56</td>\n      <td>4.55</td>\n      <td>34</td>\n      <td>44</td>\n      <td>0</td>\n      <td>20</td>\n      <td>0</td>\n      <td>162</td>\n      <td>57</td>\n      <td>23</td>\n      <td>10</td>\n      <td>35</td>\n      <td>179</td>\n      <td>0</td>\n      <td>0</td>\n    </tr>\n  </tbody>\n</table>\n</div>"
     },
     "execution_count": 33,
     "metadata": {},
     "output_type": "execute_result"
    }
   ],
   "source": [
    "df = pd.read_csv('Birthweight_reduced_kg_R.csv')\n",
    "df.sample(5)"
   ],
   "metadata": {
    "collapsed": false,
    "ExecuteTime": {
     "end_time": "2023-09-15T17:09:34.338117700Z",
     "start_time": "2023-09-15T17:09:33.805130900Z"
    }
   },
   "id": "fe6a530a6644c3be"
  },
  {
   "cell_type": "markdown",
   "source": [
    "**Q1. What is the mean birth weight for babies of non-smoking mothers?**"
   ],
   "metadata": {
    "collapsed": false
   },
   "id": "1458d2b38e8211a6"
  },
  {
   "cell_type": "code",
   "execution_count": 34,
   "outputs": [
    {
     "data": {
      "text/plain": "3.5095000000000005"
     },
     "execution_count": 34,
     "metadata": {},
     "output_type": "execute_result"
    }
   ],
   "source": [
    "mean_birth_weight_non_smoking = df['Birthweight'][df['smoker']==0].mean()\n",
    "mean_birth_weight_non_smoking"
   ],
   "metadata": {
    "collapsed": false,
    "ExecuteTime": {
     "end_time": "2023-09-15T17:09:34.358884100Z",
     "start_time": "2023-09-15T17:09:33.837637300Z"
    }
   },
   "id": "6599966782ba49d8"
  },
  {
   "cell_type": "markdown",
   "source": [
    "**Q2. What is the mean birth weight for babies of smoking mothers?**"
   ],
   "metadata": {
    "collapsed": false
   },
   "id": "87601805e3716402"
  },
  {
   "cell_type": "code",
   "execution_count": 35,
   "outputs": [
    {
     "data": {
      "text/plain": "3.1340909090909093"
     },
     "execution_count": 35,
     "metadata": {},
     "output_type": "execute_result"
    }
   ],
   "source": [
    "mean_birth_weight_smoking = df['Birthweight'][df['smoker']==1].mean()\n",
    "mean_birth_weight_smoking"
   ],
   "metadata": {
    "collapsed": false,
    "ExecuteTime": {
     "end_time": "2023-09-15T17:09:34.377882200Z",
     "start_time": "2023-09-15T17:09:33.853481100Z"
    }
   },
   "id": "8cbd3b51a91b023c"
  },
  {
   "cell_type": "markdown",
   "source": [
    "**Q3. What is the mean head circumference for babies of non-smoking mothers?**"
   ],
   "metadata": {
    "collapsed": false
   },
   "id": "33af7a7b592b2153"
  },
  {
   "cell_type": "code",
   "execution_count": 36,
   "outputs": [
    {
     "data": {
      "text/plain": "35.05"
     },
     "execution_count": 36,
     "metadata": {},
     "output_type": "execute_result"
    }
   ],
   "source": [
    "mean_head_circ_non_smoking = df['Headcirc'][df['smoker']==0].mean()\n",
    "mean_head_circ_non_smoking"
   ],
   "metadata": {
    "collapsed": false,
    "ExecuteTime": {
     "end_time": "2023-09-15T17:09:34.429389800Z",
     "start_time": "2023-09-15T17:09:33.864089800Z"
    }
   },
   "id": "32512b949b15d27a"
  },
  {
   "cell_type": "markdown",
   "source": [
    "**Q4. What is the mean gestational age at birth for babies of smoking mothers?**"
   ],
   "metadata": {
    "collapsed": false
   },
   "id": "25af74dfcfcb4885"
  },
  {
   "cell_type": "code",
   "execution_count": 37,
   "outputs": [
    {
     "data": {
      "text/plain": "38.95454545454545"
     },
     "execution_count": 37,
     "metadata": {},
     "output_type": "execute_result"
    }
   ],
   "source": [
    "mean_gestation_smoking = df['Gestation'][df['smoker']==1].mean()\n",
    "mean_gestation_smoking"
   ],
   "metadata": {
    "collapsed": false,
    "ExecuteTime": {
     "end_time": "2023-09-15T17:09:34.457388200Z",
     "start_time": "2023-09-15T17:09:33.880221200Z"
    }
   },
   "id": "195fccb530593e94"
  },
  {
   "cell_type": "markdown",
   "source": [
    "**Q5. What is the maximum head circumference for babies of non-smoking mothers?**"
   ],
   "metadata": {
    "collapsed": false
   },
   "id": "ba5d1477dcdd1854"
  },
  {
   "cell_type": "code",
   "execution_count": 38,
   "outputs": [
    {
     "data": {
      "text/plain": "39"
     },
     "execution_count": 38,
     "metadata": {},
     "output_type": "execute_result"
    }
   ],
   "source": [
    "max_head_circ_non_smoking = df['Headcirc'][df['smoker']==0].max()\n",
    "max_head_circ_non_smoking"
   ],
   "metadata": {
    "collapsed": false,
    "ExecuteTime": {
     "end_time": "2023-09-15T17:09:34.478459900Z",
     "start_time": "2023-09-15T17:09:33.895565400Z"
    }
   },
   "id": "d8ea4f0ad14d69ff"
  },
  {
   "cell_type": "markdown",
   "source": [
    "**Q6. What is the minimum gestational age at birth for babies of smoking mothers?**"
   ],
   "metadata": {
    "collapsed": false
   },
   "id": "6292e0df86b81546"
  },
  {
   "cell_type": "code",
   "execution_count": 39,
   "outputs": [
    {
     "data": {
      "text/plain": "33"
     },
     "execution_count": 39,
     "metadata": {},
     "output_type": "execute_result"
    }
   ],
   "source": [
    "min_gestation_smoking = df['Gestation'][df['smoker']==1].min()\n",
    "min_gestation_smoking"
   ],
   "metadata": {
    "collapsed": false,
    "ExecuteTime": {
     "end_time": "2023-09-15T17:09:34.533765700Z",
     "start_time": "2023-09-15T17:09:33.914359300Z"
    }
   },
   "id": "6131c5ad46125cc9"
  },
  {
   "cell_type": "markdown",
   "source": [
    "**Q7. Based on the dataset you have, out of the two, which one would be a better bet:**\n",
    "●\tPregnancy period in smoking mothers is shorter\n",
    "●\tPregnancy period in non-smoking mothers is shorter"
   ],
   "metadata": {
    "collapsed": false
   },
   "id": "9f765a5f80bd667f"
  },
  {
   "cell_type": "code",
   "execution_count": 40,
   "outputs": [
    {
     "data": {
      "text/plain": "33"
     },
     "execution_count": 40,
     "metadata": {},
     "output_type": "execute_result"
    }
   ],
   "source": [
    "min_gestation_non_smoking = df['Gestation'][df['smoker']==0].min()\n",
    "min_gestation_non_smoking"
   ],
   "metadata": {
    "collapsed": false,
    "ExecuteTime": {
     "end_time": "2023-09-15T17:09:34.590175200Z",
     "start_time": "2023-09-15T17:09:33.942221600Z"
    }
   },
   "id": "386358b3a8a4fc51"
  },
  {
   "cell_type": "code",
   "execution_count": 41,
   "outputs": [
    {
     "data": {
      "text/plain": "39.45"
     },
     "execution_count": 41,
     "metadata": {},
     "output_type": "execute_result"
    }
   ],
   "source": [
    "mean_gestation_non_smoking = df['Gestation'][df['smoker']==0].mean()\n",
    "mean_gestation_non_smoking"
   ],
   "metadata": {
    "collapsed": false,
    "ExecuteTime": {
     "end_time": "2023-09-15T17:09:34.597484700Z",
     "start_time": "2023-09-15T17:09:33.958576700Z"
    }
   },
   "id": "7f22aa128fd785b"
  },
  {
   "cell_type": "code",
   "execution_count": 42,
   "outputs": [
    {
     "data": {
      "text/plain": "40.0"
     },
     "execution_count": 42,
     "metadata": {},
     "output_type": "execute_result"
    }
   ],
   "source": [
    "median_gestation_non_smoking = df['Gestation'][df['smoker']==0].median()\n",
    "median_gestation_non_smoking"
   ],
   "metadata": {
    "collapsed": false,
    "ExecuteTime": {
     "end_time": "2023-09-15T17:09:34.622504100Z",
     "start_time": "2023-09-15T17:09:33.971534Z"
    }
   },
   "id": "1e87b590a8e02d3f"
  },
  {
   "cell_type": "code",
   "execution_count": 43,
   "outputs": [
    {
     "data": {
      "text/plain": "39.0"
     },
     "execution_count": 43,
     "metadata": {},
     "output_type": "execute_result"
    }
   ],
   "source": [
    "median_gestation_smoking = df['Gestation'][df['smoker']==1].median()\n",
    "median_gestation_smoking"
   ],
   "metadata": {
    "collapsed": false,
    "ExecuteTime": {
     "end_time": "2023-09-15T17:09:34.655118Z",
     "start_time": "2023-09-15T17:09:33.986680900Z"
    }
   },
   "id": "b34dfb483f635d5d"
  },
  {
   "cell_type": "markdown",
   "source": [
    "**Q9. What is the baby birth weight range for babies of smoking mothers?**"
   ],
   "metadata": {
    "collapsed": false
   },
   "id": "a3e1ca31684255a2"
  },
  {
   "cell_type": "code",
   "execution_count": 44,
   "outputs": [
    {
     "data": {
      "text/plain": "(1.92, 4.57)"
     },
     "execution_count": 44,
     "metadata": {},
     "output_type": "execute_result"
    }
   ],
   "source": [
    "min_birth_weight_smoking = df['Birthweight'][df['smoker']==1].min()\n",
    "max_birth_weight_smoking = df['Birthweight'][df['smoker']==1].max()\n",
    "birth_weight_range_smoking = (min_birth_weight_smoking, max_birth_weight_smoking)\n",
    "birth_weight_range_smoking"
   ],
   "metadata": {
    "collapsed": false,
    "ExecuteTime": {
     "end_time": "2023-09-15T17:09:34.659121700Z",
     "start_time": "2023-09-15T17:09:34.005806100Z"
    }
   },
   "id": "b04f4a31de4b4bea"
  },
  {
   "cell_type": "code",
   "execution_count": 45,
   "outputs": [
    {
     "data": {
      "text/plain": "(2.65, 4.55)"
     },
     "execution_count": 45,
     "metadata": {},
     "output_type": "execute_result"
    }
   ],
   "source": [
    "min_birth_weight_non_smoking = df['Birthweight'][df['smoker']==0].min()\n",
    "max_birth_weight_non_smoking = df['Birthweight'][df['smoker']==0].max()\n",
    "birth_weight_range_non_smoking = (min_birth_weight_non_smoking, max_birth_weight_non_smoking)\n",
    "birth_weight_range_non_smoking"
   ],
   "metadata": {
    "collapsed": false,
    "ExecuteTime": {
     "end_time": "2023-09-15T17:09:34.660124200Z",
     "start_time": "2023-09-15T17:09:34.033768800Z"
    }
   },
   "id": "7c5a29fa8e97c46f"
  },
  {
   "cell_type": "markdown",
   "source": [
    "**Q11. Are head circumference data for babies of smoking mothers normally distributed?**"
   ],
   "metadata": {
    "collapsed": false
   },
   "id": "2c0fa0880ca1616c"
  },
  {
   "cell_type": "code",
   "execution_count": 46,
   "outputs": [
    {
     "name": "stdout",
     "output_type": "stream",
     "text": [
      "True\n"
     ]
    }
   ],
   "source": [
    "df_test = df['Headcirc'][df['smoker']==1]\n",
    "stat, p_value = stats.shapiro(df_test)\n",
    "print(p_value > 0.05)"
   ],
   "metadata": {
    "collapsed": false,
    "ExecuteTime": {
     "end_time": "2023-09-15T17:09:34.663118900Z",
     "start_time": "2023-09-15T17:09:34.047701200Z"
    }
   },
   "id": "30fb8e6e31a056e8"
  },
  {
   "cell_type": "code",
   "execution_count": 47,
   "outputs": [
    {
     "name": "stdout",
     "output_type": "stream",
     "text": [
      "0.3723871409893036\n"
     ]
    }
   ],
   "source": [
    "print(p_value)"
   ],
   "metadata": {
    "collapsed": false,
    "ExecuteTime": {
     "end_time": "2023-09-15T17:09:34.664118100Z",
     "start_time": "2023-09-15T17:09:34.065133100Z"
    }
   },
   "id": "ce47fd0a4272b112"
  },
  {
   "cell_type": "markdown",
   "source": [
    "**Q13. What is the standard score (Z-score) for head circumference of 35.05 (X=35.05) in non-smoking mothers?**"
   ],
   "metadata": {
    "collapsed": false
   },
   "id": "f620a2805a6324e6"
  },
  {
   "cell_type": "code",
   "execution_count": 48,
   "outputs": [
    {
     "data": {
      "text/plain": "0.0"
     },
     "execution_count": 48,
     "metadata": {},
     "output_type": "execute_result"
    }
   ],
   "source": [
    "# Z = (X - mean) / stdev\n",
    "df_test = df['Headcirc'][df['smoker']==0]\n",
    "stdev_head_circ_non_smoking = df['Headcirc'][df['smoker']==0].std()\n",
    "X = 35.05\n",
    "z_score = (X - mean_head_circ_non_smoking) / stdev_head_circ_non_smoking\n",
    "z_score"
   ],
   "metadata": {
    "collapsed": false,
    "ExecuteTime": {
     "end_time": "2023-09-15T17:09:34.665122Z",
     "start_time": "2023-09-15T17:09:34.079565100Z"
    }
   },
   "id": "358e954e639763ab"
  },
  {
   "cell_type": "markdown",
   "source": [
    "**Q14. How are birth weight data of non-smoking mothers skewed?**"
   ],
   "metadata": {
    "collapsed": false
   },
   "id": "2ca440717d4cda03"
  },
  {
   "cell_type": "code",
   "execution_count": 49,
   "outputs": [
    {
     "name": "stdout",
     "output_type": "stream",
     "text": [
      "True\n"
     ]
    }
   ],
   "source": [
    "df_test = df['Birthweight'][df['smoker']==0]\n",
    "stat, p_value = stats.shapiro(df_test)\n",
    "print(p_value > 0.05)"
   ],
   "metadata": {
    "collapsed": false,
    "ExecuteTime": {
     "end_time": "2023-09-15T17:09:34.665122Z",
     "start_time": "2023-09-15T17:09:34.100713300Z"
    }
   },
   "id": "25e605d6e3a2d688"
  },
  {
   "cell_type": "code",
   "execution_count": 50,
   "outputs": [
    {
     "name": "stdout",
     "output_type": "stream",
     "text": [
      "Mean : 3.5095000000000005, Median : 3.385, Mode : 2.65\n"
     ]
    }
   ],
   "source": [
    "median_birth_weight_non_smoking = df_test.median()\n",
    "mode_birth_weight_non_smoking = df_test.mode()[0]\n",
    "\n",
    "print(f\"Mean : {mean_birth_weight_non_smoking}, Median : {median_birth_weight_non_smoking}, Mode : {mode_birth_weight_non_smoking}\")"
   ],
   "metadata": {
    "collapsed": false,
    "ExecuteTime": {
     "end_time": "2023-09-15T17:09:34.666117500Z",
     "start_time": "2023-09-15T17:09:34.110638Z"
    }
   },
   "id": "1fdd84fa60e9be36"
  },
  {
   "cell_type": "markdown",
   "source": [
    "The birth weight data of non-smoking mothers are positively skewed "
   ],
   "metadata": {
    "collapsed": false
   },
   "id": "fd7c877beb00c789"
  },
  {
   "cell_type": "markdown",
   "source": [
    "**Q15. Are birth weight data for babies of smoking mothers normally distributed?**"
   ],
   "metadata": {
    "collapsed": false
   },
   "id": "b140a21903cb8027"
  },
  {
   "cell_type": "code",
   "execution_count": 51,
   "outputs": [
    {
     "name": "stdout",
     "output_type": "stream",
     "text": [
      "True\n"
     ]
    }
   ],
   "source": [
    "df_test = df['Birthweight'][df['smoker']==1]\n",
    "stat, p_value = stats.shapiro(df_test)\n",
    "print(p_value > 0.05)"
   ],
   "metadata": {
    "collapsed": false,
    "ExecuteTime": {
     "end_time": "2023-09-15T17:09:34.666117500Z",
     "start_time": "2023-09-15T17:09:34.127271700Z"
    }
   },
   "id": "cdd95d4583b48a01"
  },
  {
   "cell_type": "code",
   "execution_count": 52,
   "outputs": [
    {
     "data": {
      "text/plain": "0.9494693279266357"
     },
     "execution_count": 52,
     "metadata": {},
     "output_type": "execute_result"
    }
   ],
   "source": [
    "p_value"
   ],
   "metadata": {
    "collapsed": false,
    "ExecuteTime": {
     "end_time": "2023-09-15T17:09:34.667118700Z",
     "start_time": "2023-09-15T17:09:34.142306100Z"
    }
   },
   "id": "999fff675fb1fcbe"
  },
  {
   "cell_type": "markdown",
   "source": [
    "**Q17. Based on the dataset you have, how confident can you be in saying that a baby's birth weight will be +/- 1 standard deviation from the mean?**"
   ],
   "metadata": {
    "collapsed": false
   },
   "id": "d9fac0463e9dfb5"
  },
  {
   "cell_type": "code",
   "execution_count": 53,
   "outputs": [
    {
     "name": "stdout",
     "output_type": "stream",
     "text": [
      "True\n"
     ]
    }
   ],
   "source": [
    "df_test = df['Birthweight']\n",
    "stat, p_value = stats.shapiro(df_test)\n",
    "print(p_value > 0.05)"
   ],
   "metadata": {
    "collapsed": false,
    "ExecuteTime": {
     "end_time": "2023-09-15T17:09:34.685454300Z",
     "start_time": "2023-09-15T17:09:34.175526Z"
    }
   },
   "id": "c159e0669752e48"
  },
  {
   "cell_type": "markdown",
   "source": [
    "**Q18. Based on the dataset you have, what is the probability that the birth weight for a baby of a smoking mother will be less than 4.2 kg?**"
   ],
   "metadata": {
    "collapsed": false
   },
   "id": "11c30a1ef678e773"
  },
  {
   "cell_type": "code",
   "execution_count": 54,
   "outputs": [
    {
     "data": {
      "text/plain": "3.1340909090909093"
     },
     "execution_count": 54,
     "metadata": {},
     "output_type": "execute_result"
    }
   ],
   "source": [
    "mean_birth_weight_smoking = df['Birthweight'][df['smoker']==1].mean()\n",
    "mean_birth_weight_smoking"
   ],
   "metadata": {
    "collapsed": false,
    "ExecuteTime": {
     "end_time": "2023-09-15T17:09:34.686561500Z",
     "start_time": "2023-09-15T17:09:34.190601700Z"
    }
   },
   "id": "e0c7324b3fdf9510"
  },
  {
   "cell_type": "code",
   "execution_count": 55,
   "outputs": [
    {
     "data": {
      "text/plain": "0.631247133635428"
     },
     "execution_count": 55,
     "metadata": {},
     "output_type": "execute_result"
    }
   ],
   "source": [
    "stdev_birth_weight_smoking = df['Birthweight'][df['smoker']==1].std()\n",
    "stdev_birth_weight_smoking"
   ],
   "metadata": {
    "collapsed": false,
    "ExecuteTime": {
     "end_time": "2023-09-15T17:09:34.686561500Z",
     "start_time": "2023-09-15T17:09:34.206244Z"
    }
   },
   "id": "cbc4023b40d5d41a"
  },
  {
   "cell_type": "code",
   "execution_count": 56,
   "outputs": [
    {
     "data": {
      "text/plain": "1.688576524332701"
     },
     "execution_count": 56,
     "metadata": {},
     "output_type": "execute_result"
    }
   ],
   "source": [
    "zscore_4_2 = (4.2 - mean_birth_weight_smoking) / stdev_birth_weight_smoking\n",
    "zscore_4_2"
   ],
   "metadata": {
    "collapsed": false,
    "ExecuteTime": {
     "end_time": "2023-09-15T17:09:34.687740600Z",
     "start_time": "2023-09-15T17:09:34.221431800Z"
    }
   },
   "id": "991c1ba86a800923"
  },
  {
   "cell_type": "markdown",
   "source": [
    "**Q19. Are data for length of baby of non-smoking mothers normally distributed?**"
   ],
   "metadata": {
    "collapsed": false
   },
   "id": "ca8e38d36dfedf65"
  },
  {
   "cell_type": "code",
   "execution_count": 57,
   "outputs": [
    {
     "name": "stdout",
     "output_type": "stream",
     "text": [
      "True\n"
     ]
    }
   ],
   "source": [
    "df_test = df['Length']\n",
    "stat, p_value = stats.shapiro(df_test)\n",
    "print(p_value > 0.05)"
   ],
   "metadata": {
    "collapsed": false,
    "ExecuteTime": {
     "end_time": "2023-09-15T17:09:34.690782100Z",
     "start_time": "2023-09-15T17:09:34.238757100Z"
    }
   },
   "id": "be65e635cb6ae57e"
  },
  {
   "cell_type": "markdown",
   "source": [
    "**Q20. What is the significance value for the above on the Shapiro-Wilk test?**"
   ],
   "metadata": {
    "collapsed": false
   },
   "id": "44f557056a0f873b"
  },
  {
   "cell_type": "code",
   "execution_count": 58,
   "outputs": [
    {
     "name": "stdout",
     "output_type": "stream",
     "text": [
      "0.05365897715091705\n"
     ]
    }
   ],
   "source": [
    "print(p_value)"
   ],
   "metadata": {
    "collapsed": false,
    "ExecuteTime": {
     "end_time": "2023-09-15T17:09:34.691782400Z",
     "start_time": "2023-09-15T17:09:34.250900400Z"
    }
   },
   "id": "aa945269c3834a8b"
  },
  {
   "cell_type": "markdown",
   "source": [
    "**Q21. What is the standard score for the length of a baby of 48.5cm for non-smoking mothers?**"
   ],
   "metadata": {
    "collapsed": false
   },
   "id": "bb8d2a9b747fcd7c"
  },
  {
   "cell_type": "code",
   "execution_count": 59,
   "outputs": [
    {
     "data": {
      "text/plain": "-1.0140905884929503"
     },
     "execution_count": 59,
     "metadata": {},
     "output_type": "execute_result"
    }
   ],
   "source": [
    "mean_length_non_smoking = df['Length'][df['smoker']==0].mean()\n",
    "stdev_length_non_smoking = df['Length'][df['smoker']==0].std()\n",
    "zscore_48_5 = (48.5 - mean_length_non_smoking) / stdev_length_non_smoking\n",
    "zscore_48_5"
   ],
   "metadata": {
    "collapsed": false,
    "ExecuteTime": {
     "end_time": "2023-09-15T17:09:34.693779800Z",
     "start_time": "2023-09-15T17:09:34.267495400Z"
    }
   },
   "id": "777170ca56c43d1"
  },
  {
   "cell_type": "markdown",
   "source": [
    "**Q22. Based on the dataset you have, what is the probability that the length of baby for non-smoking mothers will be more than 55 cm?**"
   ],
   "metadata": {
    "collapsed": false
   },
   "id": "39f8d1de4f1aea1b"
  },
  {
   "cell_type": "code",
   "execution_count": 60,
   "outputs": [
    {
     "data": {
      "text/plain": "0.9833605706598324"
     },
     "execution_count": 60,
     "metadata": {},
     "output_type": "execute_result"
    }
   ],
   "source": [
    "zscore_55 = (55 - mean_length_non_smoking) / stdev_length_non_smoking\n",
    "zscore_55"
   ],
   "metadata": {
    "collapsed": false,
    "ExecuteTime": {
     "end_time": "2023-09-15T17:09:34.694785200Z",
     "start_time": "2023-09-15T17:09:34.284818400Z"
    }
   },
   "id": "c99b067405f4017d"
  },
  {
   "cell_type": "code",
   "execution_count": 1,
   "outputs": [
    {
     "name": "stdout",
     "output_type": "stream",
     "text": [
      "0.016700000000000048\n"
     ]
    }
   ],
   "source": [
    "print(1-0.9833)"
   ],
   "metadata": {
    "collapsed": false,
    "ExecuteTime": {
     "end_time": "2023-09-16T09:52:19.128731Z",
     "start_time": "2023-09-16T09:52:19.091189800Z"
    }
   },
   "id": "b09581e9ddf493d4"
  },
  {
   "cell_type": "code",
   "execution_count": null,
   "outputs": [],
   "source": [],
   "metadata": {
    "collapsed": false
   },
   "id": "e785116877764771"
  }
 ],
 "metadata": {
  "kernelspec": {
   "display_name": "Python 3",
   "language": "python",
   "name": "python3"
  },
  "language_info": {
   "codemirror_mode": {
    "name": "ipython",
    "version": 2
   },
   "file_extension": ".py",
   "mimetype": "text/x-python",
   "name": "python",
   "nbconvert_exporter": "python",
   "pygments_lexer": "ipython2",
   "version": "2.7.6"
  }
 },
 "nbformat": 4,
 "nbformat_minor": 5
}
