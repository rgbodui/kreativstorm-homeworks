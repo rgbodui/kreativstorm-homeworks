{
 "cells": [
  {
   "cell_type": "code",
   "execution_count": null,
   "id": "initial_id",
   "metadata": {
    "collapsed": true
   },
   "outputs": [],
   "source": [
    "import pandas as pd"
   ]
  },
  {
   "cell_type": "code",
   "execution_count": null,
   "outputs": [],
   "source": [
    "df = pd.read_csv('Titanic_R.csv')\n",
    "df.sample(10)"
   ],
   "metadata": {
    "collapsed": false
   },
   "id": "71073721f65eddc5"
  },
  {
   "cell_type": "code",
   "execution_count": 35,
   "outputs": [
    {
     "name": "stdout",
     "output_type": "stream",
     "text": [
      "<class 'pandas.core.frame.DataFrame'>\n",
      "RangeIndex: 1309 entries, 0 to 1308\n",
      "Data columns (total 15 columns):\n",
      " #   Column     Non-Null Count  Dtype  \n",
      "---  ------     --------------  -----  \n",
      " 0   pclass     1309 non-null   int64  \n",
      " 1   survived   1309 non-null   int64  \n",
      " 2   Residence  1309 non-null   int64  \n",
      " 3   name       1309 non-null   object \n",
      " 4   age        1046 non-null   float64\n",
      " 5   sibsp      1309 non-null   int64  \n",
      " 6   parch      1309 non-null   int64  \n",
      " 7   ticket     1309 non-null   object \n",
      " 8   fare       1308 non-null   float64\n",
      " 9   cabin      1309 non-null   object \n",
      " 10  embarked   1309 non-null   object \n",
      " 11  boat       1309 non-null   object \n",
      " 12  body       1309 non-null   object \n",
      " 13  home.dest  1309 non-null   object \n",
      " 14  Gender     1309 non-null   int64  \n",
      "dtypes: float64(2), int64(6), object(7)\n",
      "memory usage: 153.5+ KB\n"
     ]
    }
   ],
   "source": [
    "df.info()"
   ],
   "metadata": {
    "collapsed": false,
    "ExecuteTime": {
     "end_time": "2023-09-16T19:09:43.312683700Z",
     "start_time": "2023-09-16T19:09:43.230865100Z"
    }
   },
   "id": "32de469c5266e78"
  },
  {
   "cell_type": "code",
   "execution_count": null,
   "outputs": [],
   "source": [
    "# Changement dans la colonne age\n",
    "df['age'].replace(' ', None, inplace=True)\n",
    "df['age'] = df['age'].astype('float64')\n",
    "df.info()"
   ],
   "metadata": {
    "collapsed": false
   },
   "id": "c353b610bd0ac42a"
  },
  {
   "cell_type": "code",
   "execution_count": null,
   "outputs": [],
   "source": [
    "# Changement dans la colonne fare\n",
    "df['fare'].replace(' ', None, inplace=True)\n",
    "df['fare'] = df['fare'].astype('float64')\n",
    "df.info()"
   ],
   "metadata": {
    "collapsed": false
   },
   "id": "de474f731b029a31"
  },
  {
   "cell_type": "markdown",
   "source": [
    "---\n",
    "Q1. What is the average price paid for a ticket in the first class? 87.51"
   ],
   "metadata": {
    "collapsed": false
   },
   "id": "2cea39b4fadd1ce3"
  },
  {
   "cell_type": "code",
   "execution_count": 27,
   "outputs": [
    {
     "data": {
      "text/plain": "87.50899164086688"
     },
     "execution_count": 27,
     "metadata": {},
     "output_type": "execute_result"
    }
   ],
   "source": [
    "average_first_class = df[df['pclass']==1]['fare'].mean()\n",
    "average_first_class"
   ],
   "metadata": {
    "collapsed": false,
    "ExecuteTime": {
     "end_time": "2023-09-16T19:05:01.078217100Z",
     "start_time": "2023-09-16T19:05:00.987397600Z"
    }
   },
   "id": "ed99d2dfd7bf0bf4"
  },
  {
   "cell_type": "markdown",
   "source": [
    "---\n",
    "Q2. What is the average price paid for a ticket in the second class? 21.17"
   ],
   "metadata": {
    "collapsed": false
   },
   "id": "71fa75fefea67e54"
  },
  {
   "cell_type": "code",
   "execution_count": 28,
   "outputs": [
    {
     "data": {
      "text/plain": "21.179196389891697"
     },
     "execution_count": 28,
     "metadata": {},
     "output_type": "execute_result"
    }
   ],
   "source": [
    "average_second_class = df[df['pclass']==2]['fare'].mean()\n",
    "average_second_class"
   ],
   "metadata": {
    "collapsed": false,
    "ExecuteTime": {
     "end_time": "2023-09-16T19:05:03.605991300Z",
     "start_time": "2023-09-16T19:05:03.568856700Z"
    }
   },
   "id": "1ec9b985c6b23a36"
  },
  {
   "cell_type": "markdown",
   "source": [
    "---\n",
    "Q3. What is the average price paid for a ticket in the third class? 13.3"
   ],
   "metadata": {
    "collapsed": false
   },
   "id": "1c371beaa5a5d34e"
  },
  {
   "cell_type": "code",
   "execution_count": 29,
   "outputs": [
    {
     "data": {
      "text/plain": "13.302888700564973"
     },
     "execution_count": 29,
     "metadata": {},
     "output_type": "execute_result"
    }
   ],
   "source": [
    "average_third_class = df[df['pclass']==3]['fare'].mean()\n",
    "average_third_class"
   ],
   "metadata": {
    "collapsed": false,
    "ExecuteTime": {
     "end_time": "2023-09-16T19:05:07.472228800Z",
     "start_time": "2023-09-16T19:05:07.381844300Z"
    }
   },
   "id": "179c1ffa45603b63"
  },
  {
   "cell_type": "markdown",
   "source": [
    "---\n",
    "Q4. What is the average price paid by women for a ticket in the first class? 109.4"
   ],
   "metadata": {
    "collapsed": false
   },
   "id": "4ec89f4c264008b8"
  },
  {
   "cell_type": "code",
   "execution_count": 32,
   "outputs": [
    {
     "data": {
      "text/plain": "109.41238472222221"
     },
     "execution_count": 32,
     "metadata": {},
     "output_type": "execute_result"
    }
   ],
   "source": [
    "average_first_class_women = df[(df['pclass']==1) & (df['Gender']==1)]['fare'].mean()\n",
    "average_first_class_women"
   ],
   "metadata": {
    "collapsed": false,
    "ExecuteTime": {
     "end_time": "2023-09-16T19:07:39.007292300Z",
     "start_time": "2023-09-16T19:07:38.938832Z"
    }
   },
   "id": "c86d0e167fe40308"
  },
  {
   "cell_type": "markdown",
   "source": [
    "---\n",
    "Q5. What is the average price paid by men for a ticket in the third class? 12.4"
   ],
   "metadata": {
    "collapsed": false
   },
   "id": "e70e3d79373d35f7"
  },
  {
   "cell_type": "code",
   "execution_count": 33,
   "outputs": [
    {
     "data": {
      "text/plain": "12.41546199186992"
     },
     "execution_count": 33,
     "metadata": {},
     "output_type": "execute_result"
    }
   ],
   "source": [
    "average_third_class_men = df[(df['pclass']==3) & (df['Gender']==0)]['fare'].mean()\n",
    "average_third_class_men"
   ],
   "metadata": {
    "collapsed": false,
    "ExecuteTime": {
     "end_time": "2023-09-16T19:07:58.023227100Z",
     "start_time": "2023-09-16T19:07:57.964730900Z"
    }
   },
   "id": "d176c46b61f5d984"
  },
  {
   "cell_type": "markdown",
   "source": [
    "---\n",
    "Q6. Who paid more for first class tickets on average, men or women? (Compare 109 for women and 69.88 for man) Women"
   ],
   "metadata": {
    "collapsed": false
   },
   "id": "6439bcf92d629eab"
  },
  {
   "cell_type": "code",
   "execution_count": 34,
   "outputs": [
    {
     "data": {
      "text/plain": "69.88838491620112"
     },
     "execution_count": 34,
     "metadata": {},
     "output_type": "execute_result"
    }
   ],
   "source": [
    "average_first_class_men = df[(df['pclass']==1) & (df['Gender']==0)]['fare'].mean()\n",
    "average_first_class_men"
   ],
   "metadata": {
    "collapsed": false,
    "ExecuteTime": {
     "end_time": "2023-09-16T19:09:17.247669Z",
     "start_time": "2023-09-16T19:09:17.099739700Z"
    }
   },
   "id": "46f405089532ac80"
  },
  {
   "cell_type": "code",
   "execution_count": 38,
   "outputs": [
    {
     "data": {
      "text/plain": "      pclass  survived  Residence  \\\n131        1         1          0   \n523        1         1          0   \n34         3         1          2   \n570        2         0          1   \n659        1         1          0   \n1298       3         1          2   \n1085       2         0          1   \n74         3         1          2   \n607        3         0          0   \n433        2         0          1   \n\n                                                  name   age  sibsp  parch  \\\n131                                   Blank, Mr. Henry  40.0      0      0   \n523                     Hays, Miss. Margaret Bechstein  24.0      0      0   \n34                     Andersson, Miss. Erna Alexandra  17.0      4      2   \n570                               Howard, Mr. Benjamin  63.0      1      0   \n659   Kimball, Mrs. Edwin Nelson Jr (Gertrude Parsons)  45.0      1      0   \n1298           Yasbeck, Mrs. Antoni (Selini Alexander)  15.0      1      0   \n1085        Sedgwick, Mr. Charles Frederick Waddington  25.0      0      0   \n74                                Ayoub, Miss. Banoura  13.0      0      0   \n607                                Johansson, Mr. Nils  29.0      0      0   \n433                                 Gale, Mr. Shadrach  34.0      1      0   \n\n       ticket     fare cabin embarked boat body  \\\n131    112277  31.0000   A31        C    7        \n523     11767  83.1583   C54        C    7        \n34    3101281   7.9250              S    D        \n570     24065  26.0000              S             \n659     11753  52.5542   D19        S    5        \n1298     2659  14.4542              C             \n1085   244361  13.0000              S             \n74       2687   7.2292              C    C        \n607    347467   7.8542              S             \n433     28664  21.0000              S             \n\n                                 home.dest  Gender  \n131                         Glen Ridge, NJ       0  \n523                           New York, NY       1  \n34    Ruotsinphyhtaa, Finland New York, NY       1  \n570                       Swindon, England       0  \n659                             Boston, MA       1  \n1298                                             1  \n1085                             Liverpool       0  \n74                    Syria Youngstown, OH       1  \n607                                              0  \n433             Cornwall / Clear Creek, CO       0  ",
      "text/html": "<div>\n<style scoped>\n    .dataframe tbody tr th:only-of-type {\n        vertical-align: middle;\n    }\n\n    .dataframe tbody tr th {\n        vertical-align: top;\n    }\n\n    .dataframe thead th {\n        text-align: right;\n    }\n</style>\n<table border=\"1\" class=\"dataframe\">\n  <thead>\n    <tr style=\"text-align: right;\">\n      <th></th>\n      <th>pclass</th>\n      <th>survived</th>\n      <th>Residence</th>\n      <th>name</th>\n      <th>age</th>\n      <th>sibsp</th>\n      <th>parch</th>\n      <th>ticket</th>\n      <th>fare</th>\n      <th>cabin</th>\n      <th>embarked</th>\n      <th>boat</th>\n      <th>body</th>\n      <th>home.dest</th>\n      <th>Gender</th>\n    </tr>\n  </thead>\n  <tbody>\n    <tr>\n      <th>131</th>\n      <td>1</td>\n      <td>1</td>\n      <td>0</td>\n      <td>Blank, Mr. Henry</td>\n      <td>40.0</td>\n      <td>0</td>\n      <td>0</td>\n      <td>112277</td>\n      <td>31.0000</td>\n      <td>A31</td>\n      <td>C</td>\n      <td>7</td>\n      <td></td>\n      <td>Glen Ridge, NJ</td>\n      <td>0</td>\n    </tr>\n    <tr>\n      <th>523</th>\n      <td>1</td>\n      <td>1</td>\n      <td>0</td>\n      <td>Hays, Miss. Margaret Bechstein</td>\n      <td>24.0</td>\n      <td>0</td>\n      <td>0</td>\n      <td>11767</td>\n      <td>83.1583</td>\n      <td>C54</td>\n      <td>C</td>\n      <td>7</td>\n      <td></td>\n      <td>New York, NY</td>\n      <td>1</td>\n    </tr>\n    <tr>\n      <th>34</th>\n      <td>3</td>\n      <td>1</td>\n      <td>2</td>\n      <td>Andersson, Miss. Erna Alexandra</td>\n      <td>17.0</td>\n      <td>4</td>\n      <td>2</td>\n      <td>3101281</td>\n      <td>7.9250</td>\n      <td></td>\n      <td>S</td>\n      <td>D</td>\n      <td></td>\n      <td>Ruotsinphyhtaa, Finland New York, NY</td>\n      <td>1</td>\n    </tr>\n    <tr>\n      <th>570</th>\n      <td>2</td>\n      <td>0</td>\n      <td>1</td>\n      <td>Howard, Mr. Benjamin</td>\n      <td>63.0</td>\n      <td>1</td>\n      <td>0</td>\n      <td>24065</td>\n      <td>26.0000</td>\n      <td></td>\n      <td>S</td>\n      <td></td>\n      <td></td>\n      <td>Swindon, England</td>\n      <td>0</td>\n    </tr>\n    <tr>\n      <th>659</th>\n      <td>1</td>\n      <td>1</td>\n      <td>0</td>\n      <td>Kimball, Mrs. Edwin Nelson Jr (Gertrude Parsons)</td>\n      <td>45.0</td>\n      <td>1</td>\n      <td>0</td>\n      <td>11753</td>\n      <td>52.5542</td>\n      <td>D19</td>\n      <td>S</td>\n      <td>5</td>\n      <td></td>\n      <td>Boston, MA</td>\n      <td>1</td>\n    </tr>\n    <tr>\n      <th>1298</th>\n      <td>3</td>\n      <td>1</td>\n      <td>2</td>\n      <td>Yasbeck, Mrs. Antoni (Selini Alexander)</td>\n      <td>15.0</td>\n      <td>1</td>\n      <td>0</td>\n      <td>2659</td>\n      <td>14.4542</td>\n      <td></td>\n      <td>C</td>\n      <td></td>\n      <td></td>\n      <td></td>\n      <td>1</td>\n    </tr>\n    <tr>\n      <th>1085</th>\n      <td>2</td>\n      <td>0</td>\n      <td>1</td>\n      <td>Sedgwick, Mr. Charles Frederick Waddington</td>\n      <td>25.0</td>\n      <td>0</td>\n      <td>0</td>\n      <td>244361</td>\n      <td>13.0000</td>\n      <td></td>\n      <td>S</td>\n      <td></td>\n      <td></td>\n      <td>Liverpool</td>\n      <td>0</td>\n    </tr>\n    <tr>\n      <th>74</th>\n      <td>3</td>\n      <td>1</td>\n      <td>2</td>\n      <td>Ayoub, Miss. Banoura</td>\n      <td>13.0</td>\n      <td>0</td>\n      <td>0</td>\n      <td>2687</td>\n      <td>7.2292</td>\n      <td></td>\n      <td>C</td>\n      <td>C</td>\n      <td></td>\n      <td>Syria Youngstown, OH</td>\n      <td>1</td>\n    </tr>\n    <tr>\n      <th>607</th>\n      <td>3</td>\n      <td>0</td>\n      <td>0</td>\n      <td>Johansson, Mr. Nils</td>\n      <td>29.0</td>\n      <td>0</td>\n      <td>0</td>\n      <td>347467</td>\n      <td>7.8542</td>\n      <td></td>\n      <td>S</td>\n      <td></td>\n      <td></td>\n      <td></td>\n      <td>0</td>\n    </tr>\n    <tr>\n      <th>433</th>\n      <td>2</td>\n      <td>0</td>\n      <td>1</td>\n      <td>Gale, Mr. Shadrach</td>\n      <td>34.0</td>\n      <td>1</td>\n      <td>0</td>\n      <td>28664</td>\n      <td>21.0000</td>\n      <td></td>\n      <td>S</td>\n      <td></td>\n      <td></td>\n      <td>Cornwall / Clear Creek, CO</td>\n      <td>0</td>\n    </tr>\n  </tbody>\n</table>\n</div>"
     },
     "execution_count": 38,
     "metadata": {},
     "output_type": "execute_result"
    }
   ],
   "source": [
    "df.sample(10)"
   ],
   "metadata": {
    "collapsed": false,
    "ExecuteTime": {
     "end_time": "2023-09-16T19:10:40.187225500Z",
     "start_time": "2023-09-16T19:10:40.162007600Z"
    }
   },
   "id": "f6eca3f16f3ad1e0"
  },
  {
   "cell_type": "markdown",
   "source": [
    "---\n",
    "Q7. Who paid more for second class tickets on average, American or British passengers? British"
   ],
   "metadata": {
    "collapsed": false
   },
   "id": "4de94036a9cc4c4c"
  },
  {
   "cell_type": "code",
   "execution_count": 39,
   "outputs": [
    {
     "data": {
      "text/plain": "17.157935714285713"
     },
     "execution_count": 39,
     "metadata": {},
     "output_type": "execute_result"
    }
   ],
   "source": [
    "average_second_class_america = df[(df['pclass']==2) & (df['Residence']==0)]['fare'].mean()\n",
    "average_second_class_america"
   ],
   "metadata": {
    "collapsed": false,
    "ExecuteTime": {
     "end_time": "2023-09-16T19:13:57.614440700Z",
     "start_time": "2023-09-16T19:13:57.588484800Z"
    }
   },
   "id": "a690a47f98ab2441"
  },
  {
   "cell_type": "code",
   "execution_count": 41,
   "outputs": [
    {
     "data": {
      "text/plain": "22.583823529411767"
     },
     "execution_count": 41,
     "metadata": {},
     "output_type": "execute_result"
    }
   ],
   "source": [
    "average_second_class_british = df[(df['pclass']==2) & (df['Residence']==1)]['fare'].mean()\n",
    "average_second_class_british"
   ],
   "metadata": {
    "collapsed": false,
    "ExecuteTime": {
     "end_time": "2023-09-16T19:14:33.890333500Z",
     "start_time": "2023-09-16T19:14:33.860337Z"
    }
   },
   "id": "a510df533d13963d"
  },
  {
   "cell_type": "code",
   "execution_count": 42,
   "outputs": [
    {
     "data": {
      "text/plain": "20.95559696969697"
     },
     "execution_count": 42,
     "metadata": {},
     "output_type": "execute_result"
    }
   ],
   "source": [
    "average_second_class_other = df[(df['pclass']==2) & (df['Residence']==2)]['fare'].mean()\n",
    "average_second_class_other"
   ],
   "metadata": {
    "collapsed": false,
    "ExecuteTime": {
     "end_time": "2023-09-16T19:15:09.445360600Z",
     "start_time": "2023-09-16T19:15:09.375334400Z"
    }
   },
   "id": "ddcfc6843724aa53"
  },
  {
   "cell_type": "markdown",
   "source": [
    "---\n",
    "Q8. How many people were on board with home residence neither American nor British? 749"
   ],
   "metadata": {
    "collapsed": false
   },
   "id": "9fa0947c69812efe"
  },
  {
   "cell_type": "code",
   "execution_count": 46,
   "outputs": [
    {
     "data": {
      "text/plain": "749"
     },
     "execution_count": 46,
     "metadata": {},
     "output_type": "execute_result"
    }
   ],
   "source": [
    "nb_people_other = len(df[df['Residence']==2])\n",
    "nb_people_other"
   ],
   "metadata": {
    "collapsed": false,
    "ExecuteTime": {
     "end_time": "2023-09-16T19:19:11.238185800Z",
     "start_time": "2023-09-16T19:19:11.197836300Z"
    }
   },
   "id": "da3eff825bfe9c69"
  },
  {
   "cell_type": "markdown",
   "source": [
    "---\n",
    "Q9. On average, how old were men on board? What about men on board with third class tickets? 30.59, 25.96"
   ],
   "metadata": {
    "collapsed": false
   },
   "id": "b157696b363f9dd4"
  },
  {
   "cell_type": "code",
   "execution_count": 48,
   "outputs": [
    {
     "data": {
      "text/plain": "30.5852329787234"
     },
     "execution_count": 48,
     "metadata": {},
     "output_type": "execute_result"
    }
   ],
   "source": [
    "average_men = df[df['Gender']==0]['age'].mean()\n",
    "average_men"
   ],
   "metadata": {
    "collapsed": false,
    "ExecuteTime": {
     "end_time": "2023-09-16T19:20:47.325477900Z",
     "start_time": "2023-09-16T19:20:47.278282900Z"
    }
   },
   "id": "f69c31c0e0ae1b4d"
  },
  {
   "cell_type": "code",
   "execution_count": 49,
   "outputs": [
    {
     "data": {
      "text/plain": "25.96227306590258"
     },
     "execution_count": 49,
     "metadata": {},
     "output_type": "execute_result"
    }
   ],
   "source": [
    "average_men_third_class = df[(df['Gender']==0) & (df['pclass']==3)]['age'].mean()\n",
    "average_men_third_class"
   ],
   "metadata": {
    "collapsed": false,
    "ExecuteTime": {
     "end_time": "2023-09-16T19:22:12.521406400Z",
     "start_time": "2023-09-16T19:22:12.456323600Z"
    }
   },
   "id": "de865d9a76032629"
  },
  {
   "cell_type": "markdown",
   "source": [
    "---\n",
    "Q10. Which group was the youngest, first-, second-, or third-class? 3rd class"
   ],
   "metadata": {
    "collapsed": false
   },
   "id": "7a4189dc2a6656d"
  },
  {
   "cell_type": "code",
   "execution_count": 50,
   "outputs": [
    {
     "data": {
      "text/plain": "39.15991795774648"
     },
     "execution_count": 50,
     "metadata": {},
     "output_type": "execute_result"
    }
   ],
   "source": [
    "average_first_class = df[df['pclass']==1]['age'].mean()\n",
    "average_first_class"
   ],
   "metadata": {
    "collapsed": false,
    "ExecuteTime": {
     "end_time": "2023-09-16T19:23:14.241978900Z",
     "start_time": "2023-09-16T19:23:14.178756700Z"
    }
   },
   "id": "7608c7dffb1c52c"
  },
  {
   "cell_type": "code",
   "execution_count": 51,
   "outputs": [
    {
     "data": {
      "text/plain": "29.506704980842912"
     },
     "execution_count": 51,
     "metadata": {},
     "output_type": "execute_result"
    }
   ],
   "source": [
    "average_second_class = df[df['pclass']==2]['age'].mean()\n",
    "average_second_class"
   ],
   "metadata": {
    "collapsed": false,
    "ExecuteTime": {
     "end_time": "2023-09-16T19:23:46.388874800Z",
     "start_time": "2023-09-16T19:23:46.329830500Z"
    }
   },
   "id": "14843bb6c51d51d7"
  },
  {
   "cell_type": "code",
   "execution_count": 52,
   "outputs": [
    {
     "data": {
      "text/plain": "24.81636726546906"
     },
     "execution_count": 52,
     "metadata": {},
     "output_type": "execute_result"
    }
   ],
   "source": [
    "average_third_class = df[df['pclass']==3]['age'].mean()\n",
    "average_third_class"
   ],
   "metadata": {
    "collapsed": false,
    "ExecuteTime": {
     "end_time": "2023-09-16T19:24:23.887045800Z",
     "start_time": "2023-09-16T19:24:23.818988700Z"
    }
   },
   "id": "798ac06232885795"
  },
  {
   "cell_type": "markdown",
   "source": [
    "---\n",
    "Q11. What is the average family size in the second class if you know that the data contains only the main passenger name? 0.76"
   ],
   "metadata": {
    "collapsed": false
   },
   "id": "6abfbe0231f4229d"
  },
  {
   "cell_type": "code",
   "execution_count": 55,
   "outputs": [
    {
     "data": {
      "text/plain": "1.8838808250572956"
     },
     "execution_count": 55,
     "metadata": {},
     "output_type": "execute_result"
    }
   ],
   "source": [
    "df['family'] = df['sibsp'] + df['parch'] + 1\n",
    "average_family_size = df['family'].mean()\n",
    "average_family_size"
   ],
   "metadata": {
    "collapsed": false,
    "ExecuteTime": {
     "end_time": "2023-09-16T19:35:27.103185900Z",
     "start_time": "2023-09-16T19:35:27.030642600Z"
    }
   },
   "id": "67ab5682e7250934"
  },
  {
   "cell_type": "markdown",
   "source": [
    "---\n",
    "Q12. On average, which ticket group had the largest family on board? 3rd"
   ],
   "metadata": {
    "collapsed": false
   },
   "id": "56d40f56992eb601"
  },
  {
   "cell_type": "code",
   "execution_count": 56,
   "outputs": [
    {
     "data": {
      "text/plain": "1.8018575851393188"
     },
     "execution_count": 56,
     "metadata": {},
     "output_type": "execute_result"
    }
   ],
   "source": [
    "average_family_first_class = df[df['pclass']==1]['family'].mean()\n",
    "average_family_first_class"
   ],
   "metadata": {
    "collapsed": false,
    "ExecuteTime": {
     "end_time": "2023-09-16T19:37:21.035757200Z",
     "start_time": "2023-09-16T19:37:20.994688800Z"
    }
   },
   "id": "868965f160417e15"
  },
  {
   "cell_type": "code",
   "execution_count": 57,
   "outputs": [
    {
     "data": {
      "text/plain": "1.7617328519855595"
     },
     "execution_count": 57,
     "metadata": {},
     "output_type": "execute_result"
    }
   ],
   "source": [
    "average_family_second_class = df[df['pclass']==2]['family'].mean()\n",
    "average_family_second_class"
   ],
   "metadata": {
    "collapsed": false,
    "ExecuteTime": {
     "end_time": "2023-09-16T19:37:51.320567900Z",
     "start_time": "2023-09-16T19:37:51.249650600Z"
    }
   },
   "id": "654c71771fbd0901"
  },
  {
   "cell_type": "code",
   "execution_count": 58,
   "outputs": [
    {
     "data": {
      "text/plain": "1.9689703808180536"
     },
     "execution_count": 58,
     "metadata": {},
     "output_type": "execute_result"
    }
   ],
   "source": [
    "average_family_third_class = df[df['pclass']==3]['family'].mean()\n",
    "average_family_third_class"
   ],
   "metadata": {
    "collapsed": false,
    "ExecuteTime": {
     "end_time": "2023-09-16T19:38:15.884523500Z",
     "start_time": "2023-09-16T19:38:15.793228800Z"
    }
   },
   "id": "986513ad4f18519a"
  },
  {
   "cell_type": "code",
   "execution_count": null,
   "outputs": [],
   "source": [],
   "metadata": {
    "collapsed": false
   },
   "id": "dca62a9a0a508f2f"
  }
 ],
 "metadata": {
  "kernelspec": {
   "display_name": "Python 3",
   "language": "python",
   "name": "python3"
  },
  "language_info": {
   "codemirror_mode": {
    "name": "ipython",
    "version": 2
   },
   "file_extension": ".py",
   "mimetype": "text/x-python",
   "name": "python",
   "nbconvert_exporter": "python",
   "pygments_lexer": "ipython2",
   "version": "2.7.6"
  }
 },
 "nbformat": 4,
 "nbformat_minor": 5
}
